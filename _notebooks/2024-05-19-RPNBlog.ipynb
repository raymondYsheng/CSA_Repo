{
 "cells": [
  {
   "cell_type": "markdown",
   "metadata": {},
   "source": [
    "---\n",
    "title: RPN Blog\n",
    "toc: true\n",
    "layout: post\n",
    "courses: { csp: {week: 31} }\n",
    "type: hacks\n",
    "---"
   ]
  },
  {
   "cell_type": "markdown",
   "metadata": {},
   "source": [
    "## RPN Explanation\n",
    "Generally, the calculator in question was designed to allow visualization of order of operations for computer calculations."
   ]
  },
  {
   "cell_type": "markdown",
   "metadata": {},
   "source": [
    "## Token Class\n",
    "The Token class represents individual components in a mathematical expression, such as operators and parentheses. Each token has a character representation (token), a precedence level (precedence), and a calculation method (calculation).\n",
    "This class extends Token and adds a value field for numerical values. It handles both operators and numerical values in expressions.\n",
    "The Tokens class manages a collection of TermOrOperator objects using a HashMap. It provides methods to add and retrieve tokens efficiently.\n",
    "\n",
    "Each input string is tokenized, or split into individual terms (numbers, operators, parentheses)."
   ]
  },
  {
   "cell_type": "code",
   "execution_count": null,
   "metadata": {},
   "outputs": [],
   "source": [
    "private void termTokenizer() {\n",
    "    int start = 0;  // Initialize start position for multi-character terms\n",
    "    StringBuilder multiCharTerm = new StringBuilder();  // Buffer for multi-character terms\n",
    "\n",
    "    // Iterate over each character in the expression\n",
    "    for (int i = 0; i < this.expression.length(); i++) {\n",
    "        Character c = this.expression.charAt(i);  // Get the current character\n",
    "        \n",
    "        // Check if the current character is an operator or a separator\n",
    "        if (operators.contains(c) || seperators.contains(c)) {\n",
    "            // If there is a buffered multi-character term, add it to the list of terms\n",
    "            if (multiCharTerm.length() > 0) {\n",
    "                this.terms.add(new TermOrOperator(this.expression.substring(start, i)));\n",
    "            }\n",
    "\n",
    "            // Get the operator or separator TermOrOperator object\n",
    "            TermOrOperator t = operators.get(c);\n",
    "            if (t == null) {\n",
    "                t = seperators.get(c);\n",
    "            }\n",
    "\n",
    "            // If the term is not a space, add it to the list of terms\n",
    "            if (t != null && t.getToken() != ' ') {\n",
    "                this.terms.add(t);\n",
    "            }\n",
    "\n",
    "            // Update the start position for the next term and reset the buffer\n",
    "            start = i + 1;\n",
    "            multiCharTerm = new StringBuilder();\n",
    "        } else {\n",
    "            // Append the current character to the buffer for multi-character terms\n",
    "            multiCharTerm.append(c);\n",
    "        }\n",
    "    }\n",
    "\n",
    "    // Add any remaining buffered multi-character term to the list of terms\n",
    "    if (multiCharTerm.length() > 0) {\n",
    "        this.terms.add(new TermOrOperator(this.expression.substring(start)));\n",
    "    }\n",
    "}"
   ]
  },
  {
   "cell_type": "markdown",
   "metadata": {},
   "source": [
    "## Stack Storage\n",
    "Each operator/value is stored in its respective stack before processing. \n",
    "\n",
    "For example: `3 + 4 * 2 / ( 1 - 5 ) ^ 2 ^ 3`\n",
    "\n",
    "```\n",
    "RPN List: []\n",
    "Operator Stack: []\n",
    "\n",
    "Token: 3 (Value)\n",
    "RPN: [3]\n",
    "Stack: []\n",
    "\n",
    "Token: + (Operator)\n",
    "RPN: [3]\n",
    "Stack: [+]\n",
    "\n",
    "Token: 4 (Value)\n",
    "RPN: [3, 4]\n",
    "Stack: [+]\n",
    "\n",
    "Token: (Operator)\n",
    "RPN: [3, 4]\n",
    "Stack: [+, *]\n",
    "\n",
    "Token: 2 (Value)\n",
    "RPN: [3, 4, 2]\n",
    "Stack: [+, *]\n",
    "\n",
    "Token: / (Operator)\n",
    "RPN: [3, 4, 2]\n",
    "Stack: [+, *, /]\n",
    "\n",
    "Token: ( (Separator)\n",
    "RPN: [3, 4, 2]\n",
    "Stack: [+, *, /, (]\n",
    "\n",
    "Token: 1 (Value)\n",
    "RPN: [3, 4, 2, 1]\n",
    "Stack: [+, *, /, (]\n",
    "\n",
    "Token: - (Operator)\n",
    "RPN: [3, 4, 2, 1]\n",
    "Stack: [+, *, /, (, -]\n",
    "\n",
    "Token: 5 (Value)\n",
    "RPN: [3, 4, 2, 1, 5]\n",
    "Stack: [+, *, /, (, -]\n",
    "\n",
    "Token: ) (Separator) (Here, the operator is pushed to the RPN stack because closed parentheses indicate this expression needs to be evaluated first)\n",
    "RPN: [3, 4, 2, 1, 5, -]\n",
    "Stack: [+, *, /]\n",
    "\n",
    "Token: ^ (Operator)\n",
    "RPN: [3, 4, 2, 1, 5, -]\n",
    "Stack: [+, *, /, ^]\n",
    "\n",
    "Token: 2 (Value)\n",
    "RPN: [3, 4, 2, 1, 5, -, 2]\n",
    "Stack: [+, *, /, ^]\n",
    "\n",
    "Token: ^ (Operator)\n",
    "RPN: [3, 4, 2, 1, 5, -, 2]\n",
    "Stack: [+, *, /, ^, ^]\n",
    "\n",
    "Token: 3 (Value)\n",
    "RPN: [3, 4, 2, 1, 5, -, 2, 3]\n",
    "Stack: [+, *, /, ^, ^]\n",
    "\n",
    "Empty the stack to RPN from last to first.\n",
    "RPN: [3, 4, 2, 1, 5, -, 2, 3, ^, ^, /, *, +]\n",
    "Stack: []"
   ]
  },
  {
   "cell_type": "markdown",
   "metadata": {},
   "source": [
    "## RPN Notation\n",
    "Now that the RPN has been created, we just need to evaulate. The algorithm works by scanning from left to right for the first operator and using the operator on the preceding two values. Once this is calculated, the used values are removed from the stack and the first value is replaced with the new calculated value. This is done until all values and operators have been used."
   ]
  },
  {
   "cell_type": "markdown",
   "metadata": {},
   "source": [
    "<img src=\"https://github.com/raymondYsheng/CSA_Repo/assets/142441804/78404ea0-04e6-4663-8126-a28fab9fa014\">"
   ]
  }
 ],
 "metadata": {
  "kernelspec": {
   "display_name": "Java",
   "language": "java",
   "name": "java"
  },
  "language_info": {
   "codemirror_mode": "java",
   "file_extension": ".jshell",
   "mimetype": "text/x-java-source",
   "name": "java",
   "pygments_lexer": "java",
   "version": "18.0.2-ea+9-Ubuntu-222.04"
  }
 },
 "nbformat": 4,
 "nbformat_minor": 2
}
