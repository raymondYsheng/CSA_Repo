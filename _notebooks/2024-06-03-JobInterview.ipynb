{
 "cells": [
  {
   "cell_type": "markdown",
   "metadata": {},
   "source": [
    "---\n",
    "title: Job Interview Blog\n",
    "layout: post\n",
    "courses: { csp: {week: 36} }\n",
    "type: hacks\n",
    "---"
   ]
  },
  {
   "cell_type": "markdown",
   "metadata": {},
   "source": [
    "## Job Interview\n",
    "\n",
    "### Coding Experience\n",
    "\n",
    "<img src=\"https://github.com/raymondYsheng/CSA_Repo/assets/142441804/45c858a4-5cbe-45e8-b457-b4669a21842f\">\n",
    "\n",
    "### Spacebook\n",
    "[Project Workflow](https://github.com/Cosmic-Carnage/cosmic_backend_final)\n",
    "\n",
    "Cosmic Carnage was a studying and social media-oriented platform aimed at helping students relax while also allowing those who were interested in astronomy to share pictures of the night sky with one another. It included a self-made game loosely based on Space Invaders and an educational side that involved quizzing users with their knowledge of the universe as well as a leaderboard to keep track of quiz and game scores.\n",
    "\n",
    "**Key Learnings: CORS, File Upload, GET + POST Requesting, Postman Testing**\n",
    "\n",
    "#### CrunchCrypto\n",
    "\n",
    "[Project Worflow](https://github.com/divorced-coders/NewBooksBackend)\n",
    "\n",
    "CrunchCrypto was designed to help with understanding sorting algorithms as well as provide a useful utility for understanding and predicting stock prices. We used external API methods as well as comparing sort times to visualize the time taken for various sort methods, while also providing valuable insight into the fluctuation of stock prices at the time.\n",
    "\n",
    "**Key Learnings: Backend-focused projects, Time comparison, Frontend-work**\n",
    "\n",
    "#### Nighthawk Resources\n",
    "\n",
    "[Backend Workflow](https://github.com/John-sCC/jcc_backend)\n",
    "[Main Project](https://john-scc.github.io/jcc_frontend/)\n",
    "\n",
    "Nighthawk Resources was initially conceptualized as an alternative to the Stapplet program, a tool used in AP Statistics classrooms to allow students to visualize and work with data sets. However, throughout the course of the project it evolved to be an alternative to Canvas, a system used by Del Norte to track student classes, assignments, etc. The project includes fully functional account systems for teachers and students as well as systems for submitting and viewing student work. It also still includes the statistics features including systems to upload data sets through a picture and evaluate these data sets.\n",
    "\n",
    "**Key Learnings: Project Management, JWT management, File Handling, Deployment, Dealing with monotony**"
   ]
  },
  {
   "cell_type": "markdown",
   "metadata": {},
   "source": [
    "## Project Skills\n",
    "\n",
    "Project Leadership, Web Design, Git, VSCode, Public Speaking, Statistics, Java, Computer Science, AGILE Methodology, Full Stack Development Understanding other code\n",
    "\n",
    "## Project Interests\n",
    "\n",
    "- Group Work and Leadership roles\n",
    "- Handling New Projects\n",
    "- Creativity with Problem Solving\n",
    "\n",
    "<img src=\"https://github.com/raymondYsheng/CSA_Repo/assets/142441804/2063f2af-075c-48c2-91a2-ba7393f03ece\" width=\"250\" height =\"200\">"
   ]
  }
 ],
 "metadata": {
  "language_info": {
   "name": "python"
  }
 },
 "nbformat": 4,
 "nbformat_minor": 2
}
